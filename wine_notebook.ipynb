{
 "cells": [
  {
   "cell_type": "markdown",
   "metadata": {},
   "source": [
    "# Imports\n",
    "\n",
    "Here we import the requirements to run this notebook. We append the directory above this to `sys.path` so that we can access modules in the main project directory such as `make_dataset`. "
   ]
  },
  {
   "cell_type": "code",
   "execution_count": 1,
   "metadata": {},
   "outputs": [],
   "source": [
    "import sys\n",
    "import re\n",
    "import itertools\n",
    "\n",
    "import pandas as pd\n",
    "import numpy as np\n",
    "import seaborn as sns\n",
    "import matplotlib.pyplot as plt\n",
    "\n",
    "from collections import OrderedDict\n"
   ]
  },
  {
   "cell_type": "markdown",
   "metadata": {},
   "source": [
    "# Viewing the data\n",
    "\n",
    "We will load all the data that was downloaded previously and take a look at some of the characteristics of what we have to work with. \n",
    "\n",
    "First, we remove data where we don't have annotations for the wine quality (since we can't train from those in a supervised way). We remove duplicate rows:"
   ]
  },
  {
   "cell_type": "code",
   "execution_count": 2,
   "metadata": {},
   "outputs": [],
   "source": [
    "in_csv = '../data_root/raw/wine_dataset.csv'"
   ]
  },
  {
   "cell_type": "code",
   "execution_count": 3,
   "metadata": {},
   "outputs": [
    {
     "name": "stdout",
     "output_type": "stream",
     "text": [
      "Original data: 10000\n",
      "Data where wine quality is available: 10000\n",
      "Final deduplicated dataset: 9942\n"
     ]
    }
   ],
   "source": [
    "df = pd.read_csv(in_csv)\n",
    "df = df.set_index('Unnamed: 0')\n",
    "print('Original data:', len(df))\n",
    "df = df.dropna(subset=['points'])\n",
    "print('Data where wine quality is available:', len(df))\n",
    "df = df.drop_duplicates()\n",
    "df = df.reset_index(drop=True)\n",
    "print('Final deduplicated dataset:', len(df))"
   ]
  },
  {
   "cell_type": "markdown",
   "metadata": {},
   "source": [
    "Looking at the top few rows gives us a glimpse into the structure of the data. This dataset describes quality of wines in terms of points, and has various interesting columns that we can hopefully use to predict the wine quality. "
   ]
  },
  {
   "cell_type": "code",
   "execution_count": 4,
   "metadata": {},
   "outputs": [
    {
     "data": {
      "text/html": [
       "<div>\n",
       "<style scoped>\n",
       "    .dataframe tbody tr th:only-of-type {\n",
       "        vertical-align: middle;\n",
       "    }\n",
       "\n",
       "    .dataframe tbody tr th {\n",
       "        vertical-align: top;\n",
       "    }\n",
       "\n",
       "    .dataframe thead th {\n",
       "        text-align: right;\n",
       "    }\n",
       "</style>\n",
       "<table border=\"1\" class=\"dataframe\">\n",
       "  <thead>\n",
       "    <tr style=\"text-align: right;\">\n",
       "      <th></th>\n",
       "      <th>country</th>\n",
       "      <th>description</th>\n",
       "      <th>designation</th>\n",
       "      <th>points</th>\n",
       "      <th>price</th>\n",
       "      <th>province</th>\n",
       "      <th>region_1</th>\n",
       "      <th>region_2</th>\n",
       "      <th>taster_name</th>\n",
       "      <th>taster_twitter_handle</th>\n",
       "      <th>title</th>\n",
       "      <th>variety</th>\n",
       "      <th>winery</th>\n",
       "    </tr>\n",
       "  </thead>\n",
       "  <tbody>\n",
       "    <tr>\n",
       "      <th>0</th>\n",
       "      <td>Italy</td>\n",
       "      <td>Fragrances suggest hay, crushed tomato vine an...</td>\n",
       "      <td>Kirchleiten</td>\n",
       "      <td>90</td>\n",
       "      <td>30.0</td>\n",
       "      <td>Northeastern Italy</td>\n",
       "      <td>Alto Adige</td>\n",
       "      <td>NaN</td>\n",
       "      <td>Kerin O’Keefe</td>\n",
       "      <td>@kerinokeefe</td>\n",
       "      <td>Tiefenbrunner 2012 Kirchleiten Sauvignon (Alto...</td>\n",
       "      <td>Sauvignon</td>\n",
       "      <td>Tiefenbrunner</td>\n",
       "    </tr>\n",
       "    <tr>\n",
       "      <th>1</th>\n",
       "      <td>France</td>\n",
       "      <td>Packed with fruit and crisp acidity, this is a...</td>\n",
       "      <td>NaN</td>\n",
       "      <td>87</td>\n",
       "      <td>22.0</td>\n",
       "      <td>Loire Valley</td>\n",
       "      <td>Sancerre</td>\n",
       "      <td>NaN</td>\n",
       "      <td>Roger Voss</td>\n",
       "      <td>@vossroger</td>\n",
       "      <td>Bernard Reverdy et Fils 2014 Rosé (Sancerre)</td>\n",
       "      <td>Rosé</td>\n",
       "      <td>Bernard Reverdy et Fils</td>\n",
       "    </tr>\n",
       "    <tr>\n",
       "      <th>2</th>\n",
       "      <td>Italy</td>\n",
       "      <td>This easy, ruby-red wine displays fresh berry ...</td>\n",
       "      <td>NaN</td>\n",
       "      <td>86</td>\n",
       "      <td>NaN</td>\n",
       "      <td>Tuscany</td>\n",
       "      <td>Chianti Classico</td>\n",
       "      <td>NaN</td>\n",
       "      <td>NaN</td>\n",
       "      <td>NaN</td>\n",
       "      <td>Dievole 2009  Chianti Classico</td>\n",
       "      <td>Sangiovese</td>\n",
       "      <td>Dievole</td>\n",
       "    </tr>\n",
       "    <tr>\n",
       "      <th>3</th>\n",
       "      <td>US</td>\n",
       "      <td>Pretty in violet and rose petals this is a low...</td>\n",
       "      <td>Horseshoe Bend Vineyard</td>\n",
       "      <td>92</td>\n",
       "      <td>50.0</td>\n",
       "      <td>California</td>\n",
       "      <td>Russian River Valley</td>\n",
       "      <td>Sonoma</td>\n",
       "      <td>Virginie Boone</td>\n",
       "      <td>@vboone</td>\n",
       "      <td>Davis Family 2012 Horseshoe Bend Vineyard Pino...</td>\n",
       "      <td>Pinot Noir</td>\n",
       "      <td>Davis Family</td>\n",
       "    </tr>\n",
       "    <tr>\n",
       "      <th>4</th>\n",
       "      <td>US</td>\n",
       "      <td>This golden wine confounds in a mix of wet sto...</td>\n",
       "      <td>Dutton Ranch</td>\n",
       "      <td>93</td>\n",
       "      <td>38.0</td>\n",
       "      <td>California</td>\n",
       "      <td>Russian River Valley</td>\n",
       "      <td>Sonoma</td>\n",
       "      <td>Virginie Boone</td>\n",
       "      <td>@vboone</td>\n",
       "      <td>Dutton-Goldfield 2013 Dutton Ranch Chardonnay ...</td>\n",
       "      <td>Chardonnay</td>\n",
       "      <td>Dutton-Goldfield</td>\n",
       "    </tr>\n",
       "  </tbody>\n",
       "</table>\n",
       "</div>"
      ],
      "text/plain": [
       "  country                                        description  \\\n",
       "0   Italy  Fragrances suggest hay, crushed tomato vine an...   \n",
       "1  France  Packed with fruit and crisp acidity, this is a...   \n",
       "2   Italy  This easy, ruby-red wine displays fresh berry ...   \n",
       "3      US  Pretty in violet and rose petals this is a low...   \n",
       "4      US  This golden wine confounds in a mix of wet sto...   \n",
       "\n",
       "               designation  points  price            province  \\\n",
       "0              Kirchleiten      90   30.0  Northeastern Italy   \n",
       "1                      NaN      87   22.0        Loire Valley   \n",
       "2                      NaN      86    NaN             Tuscany   \n",
       "3  Horseshoe Bend Vineyard      92   50.0          California   \n",
       "4             Dutton Ranch      93   38.0          California   \n",
       "\n",
       "               region_1 region_2     taster_name taster_twitter_handle  \\\n",
       "0            Alto Adige      NaN   Kerin O’Keefe          @kerinokeefe   \n",
       "1              Sancerre      NaN      Roger Voss            @vossroger   \n",
       "2      Chianti Classico      NaN             NaN                   NaN   \n",
       "3  Russian River Valley   Sonoma  Virginie Boone               @vboone   \n",
       "4  Russian River Valley   Sonoma  Virginie Boone               @vboone   \n",
       "\n",
       "                                               title     variety  \\\n",
       "0  Tiefenbrunner 2012 Kirchleiten Sauvignon (Alto...   Sauvignon   \n",
       "1       Bernard Reverdy et Fils 2014 Rosé (Sancerre)        Rosé   \n",
       "2                     Dievole 2009  Chianti Classico  Sangiovese   \n",
       "3  Davis Family 2012 Horseshoe Bend Vineyard Pino...  Pinot Noir   \n",
       "4  Dutton-Goldfield 2013 Dutton Ranch Chardonnay ...  Chardonnay   \n",
       "\n",
       "                    winery  \n",
       "0            Tiefenbrunner  \n",
       "1  Bernard Reverdy et Fils  \n",
       "2                  Dievole  \n",
       "3             Davis Family  \n",
       "4         Dutton-Goldfield  "
      ]
     },
     "execution_count": 4,
     "metadata": {},
     "output_type": "execute_result"
    }
   ],
   "source": [
    "df.head()"
   ]
  },
  {
   "cell_type": "markdown",
   "metadata": {},
   "source": [
    "Using `df.info()` shows us all the column names, and the type of objects they hold."
   ]
  },
  {
   "cell_type": "code",
   "execution_count": 5,
   "metadata": {},
   "outputs": [
    {
     "name": "stdout",
     "output_type": "stream",
     "text": [
      "<class 'pandas.core.frame.DataFrame'>\n",
      "RangeIndex: 9942 entries, 0 to 9941\n",
      "Data columns (total 13 columns):\n",
      "country                  9936 non-null object\n",
      "description              9942 non-null object\n",
      "designation              7129 non-null object\n",
      "points                   9942 non-null int64\n",
      "price                    9266 non-null float64\n",
      "province                 9936 non-null object\n",
      "region_1                 8289 non-null object\n",
      "region_2                 3830 non-null object\n",
      "taster_name              7959 non-null object\n",
      "taster_twitter_handle    7589 non-null object\n",
      "title                    9942 non-null object\n",
      "variety                  9942 non-null object\n",
      "winery                   9942 non-null object\n",
      "dtypes: float64(1), int64(1), object(11)\n",
      "memory usage: 1009.8+ KB\n"
     ]
    }
   ],
   "source": [
    "df.info()"
   ]
  },
  {
   "cell_type": "markdown",
   "metadata": {},
   "source": [
    "Most of the data fields are non-numeric, but we can get a few statistics over the numeric values. We can see that the `points` range from 80 to 100. From this, we can begin to think on how we can create a machine learning model to predict the points."
   ]
  },
  {
   "cell_type": "code",
   "execution_count": 6,
   "metadata": {},
   "outputs": [
    {
     "data": {
      "text/html": [
       "<div>\n",
       "<style scoped>\n",
       "    .dataframe tbody tr th:only-of-type {\n",
       "        vertical-align: middle;\n",
       "    }\n",
       "\n",
       "    .dataframe tbody tr th {\n",
       "        vertical-align: top;\n",
       "    }\n",
       "\n",
       "    .dataframe thead th {\n",
       "        text-align: right;\n",
       "    }\n",
       "</style>\n",
       "<table border=\"1\" class=\"dataframe\">\n",
       "  <thead>\n",
       "    <tr style=\"text-align: right;\">\n",
       "      <th></th>\n",
       "      <th>points</th>\n",
       "      <th>price</th>\n",
       "    </tr>\n",
       "  </thead>\n",
       "  <tbody>\n",
       "    <tr>\n",
       "      <th>count</th>\n",
       "      <td>9942.000000</td>\n",
       "      <td>9266.000000</td>\n",
       "    </tr>\n",
       "    <tr>\n",
       "      <th>mean</th>\n",
       "      <td>88.459264</td>\n",
       "      <td>35.458990</td>\n",
       "    </tr>\n",
       "    <tr>\n",
       "      <th>std</th>\n",
       "      <td>3.034672</td>\n",
       "      <td>40.979322</td>\n",
       "    </tr>\n",
       "    <tr>\n",
       "      <th>min</th>\n",
       "      <td>80.000000</td>\n",
       "      <td>5.000000</td>\n",
       "    </tr>\n",
       "    <tr>\n",
       "      <th>25%</th>\n",
       "      <td>86.000000</td>\n",
       "      <td>17.000000</td>\n",
       "    </tr>\n",
       "    <tr>\n",
       "      <th>50%</th>\n",
       "      <td>88.000000</td>\n",
       "      <td>25.000000</td>\n",
       "    </tr>\n",
       "    <tr>\n",
       "      <th>75%</th>\n",
       "      <td>91.000000</td>\n",
       "      <td>42.000000</td>\n",
       "    </tr>\n",
       "    <tr>\n",
       "      <th>max</th>\n",
       "      <td>100.000000</td>\n",
       "      <td>1300.000000</td>\n",
       "    </tr>\n",
       "  </tbody>\n",
       "</table>\n",
       "</div>"
      ],
      "text/plain": [
       "            points        price\n",
       "count  9942.000000  9266.000000\n",
       "mean     88.459264    35.458990\n",
       "std       3.034672    40.979322\n",
       "min      80.000000     5.000000\n",
       "25%      86.000000    17.000000\n",
       "50%      88.000000    25.000000\n",
       "75%      91.000000    42.000000\n",
       "max     100.000000  1300.000000"
      ]
     },
     "execution_count": 6,
     "metadata": {},
     "output_type": "execute_result"
    }
   ],
   "source": [
    "df.describe()"
   ]
  },
  {
   "cell_type": "markdown",
   "metadata": {},
   "source": [
    "# Understanding the objective"
   ]
  },
  {
   "cell_type": "markdown",
   "metadata": {},
   "source": [
    "It's always important to understand the data, the objective, and prior work when attacking a new topic. There's actually been a lot of work already done for predicting wine quality, and we want to learn from it as much as possible. For example, we might first think to use some regression techniques, but from doing some basic research, we can find that the points rating given to wines actually reduces into a nice classification scheme:"
   ]
  },
  {
   "cell_type": "markdown",
   "metadata": {},
   "source": [
    "<img src=\"wine_ratings.png\">"
   ]
  },
  {
   "cell_type": "markdown",
   "metadata": {},
   "source": [
    "Although the points system may be very granular for a true connosieur, at the end of the day, the points system is useful to the wine consumer, only insofar as they can make a purchasing decision about wines. Converting this to a classification task won't hurt the consumer that much, but we can gain a lot for our models from doing this. Therefore, I will convert the points into quality classes, so we can train a classifier. This may lose some of the granularity of the points system, but I think it will make it easier for the model to learn useful information from the data. The classification system will range from 0 to 5, with 0 being the worst and 5 being the best.\n",
    "\n",
    "(For future work, it would be instructive to train a regression model as well, and actually compare the results.)"
   ]
  },
  {
   "cell_type": "code",
   "execution_count": 7,
   "metadata": {},
   "outputs": [],
   "source": [
    "quality_to_class = OrderedDict([\n",
    "    ('acceptable', 0),\n",
    "    ('good', 1), \n",
    "    ('very good', 2),\n",
    "    ('excellent', 3),\n",
    "    ('superb', 4),\n",
    "    ('classic', 5)\n",
    "])\n",
    "    \n",
    "def points_to_class(points):\n",
    "    if points <= 82: \n",
    "        return list(quality_to_class.values())[0]\n",
    "    if points <= 86: \n",
    "        return list(quality_to_class.values())[1]\n",
    "    if points <= 89:\n",
    "        return list(quality_to_class.values())[2]\n",
    "    if points <= 93: \n",
    "        return list(quality_to_class.values())[3]\n",
    "    if points <= 97: \n",
    "        return list(quality_to_class.values())[4]\n",
    "    if points <= 100: \n",
    "        return list(quality_to_class.values())[5]"
   ]
  },
  {
   "cell_type": "code",
   "execution_count": 8,
   "metadata": {},
   "outputs": [],
   "source": [
    "df['quality'] = df['points'].apply(points_to_class)"
   ]
  },
  {
   "cell_type": "markdown",
   "metadata": {},
   "source": [
    "Looking at the classes we've created, we can see that the data is pretty unbalanced. There are few wines in the lowest \"acceptable\" bracket, few in the \"superb\" bracket, and almost none in the highest quality \"classic\" bracket. This will make it difficult to train a model to be able to generalize its predictions to the highest bracket. "
   ]
  },
  {
   "cell_type": "code",
   "execution_count": 9,
   "metadata": {},
   "outputs": [
    {
     "name": "stdout",
     "output_type": "stream",
     "text": [
      "0     213\n",
      "1    2446\n",
      "2    3506\n",
      "3    3310\n",
      "4     456\n",
      "5      11\n",
      "Name: quality, dtype: int64\n"
     ]
    }
   ],
   "source": [
    "value_dict = df['quality'].value_counts().sort_index()\n",
    "print(value_dict)"
   ]
  },
  {
   "cell_type": "markdown",
   "metadata": {},
   "source": [
    "One way of handling this might be to group the highest and second highest brackets into one; however, I would like our prototype to be easily scalable to bigger data, instead having to collapse the points system even further (which would also move us further away from how consumers percieve wine quality). \n",
    "\n",
    "Still, I think it will be very hard to train a model on so few examples from the top quality class, so for now, I will roll them into class 4."
   ]
  },
  {
   "cell_type": "code",
   "execution_count": 10,
   "metadata": {},
   "outputs": [
    {
     "name": "stdout",
     "output_type": "stream",
     "text": [
      "0     213\n",
      "1    2446\n",
      "2    3506\n",
      "3    3310\n",
      "4     467\n",
      "Name: quality, dtype: int64\n"
     ]
    }
   ],
   "source": [
    "quality_to_class = OrderedDict([\n",
    "    ('acceptable', 0),\n",
    "    ('good', 1), \n",
    "    ('very good', 2),\n",
    "    ('excellent', 3),\n",
    "    ('superb', 4),\n",
    "    ('classic', 4)\n",
    "])\n",
    "    \n",
    "df['quality'] = df['points'].apply(points_to_class)\n",
    "value_dict = df['quality'].value_counts().sort_index()\n",
    "print(value_dict)"
   ]
  },
  {
   "cell_type": "markdown",
   "metadata": {},
   "source": [
    "# Plotting interesting characteristics\n",
    "\n",
    "We can generate plots in order to understand some more aspects of our data set. "
   ]
  },
  {
   "cell_type": "markdown",
   "metadata": {},
   "source": [
    "For example, looking at the price data as a scatter plot, shows us that there are a few outliers, in particular for the \"superb\" quality wines."
   ]
  },
  {
   "cell_type": "code",
   "execution_count": 11,
   "metadata": {
    "scrolled": true
   },
   "outputs": [
    {
     "data": {
      "text/plain": [
       "Text(0.5, 1.0, 'Wine quality vs price (zoomed in)')"
      ]
     },
     "execution_count": 11,
     "metadata": {},
     "output_type": "execute_result"
    },
    {
     "data": {
      "image/png": "[encoded data removed]",
      "text/plain": [
       "<Figure size 864x288 with 2 Axes>"
      ]
     },
     "metadata": {
      "needs_background": "light"
     },
     "output_type": "display_data"
    }
   ],
   "source": [
    "f, axes = plt.subplots(1, 2, figsize=(12, 4))\n",
    "f.subplots_adjust(wspace=0.9)\n",
    "\n",
    "ax_left = axes[0]\n",
    "ax_right = axes[1]\n",
    "\n",
    "sns.boxplot(x='quality', y='price', data=df, ax=ax_left)\n",
    "ax_left.set_xlabel('quality', fontsize=20)\n",
    "ax_left.set_ylabel('price', fontsize=20)\n",
    "ax_left.set_title('Wine quality vs price', fontsize=20)\n",
    "\n",
    "sns.boxplot(x='quality', y='price', data=df, ax=ax_right)\n",
    "ax_right.set_xlabel('quality', fontsize=20)\n",
    "ax_right.set_ylabel('price', fontsize=20)\n",
    "ax_right.set_ylim(0, 150)\n",
    "ax_right.set_title('Wine quality vs price (zoomed in)', fontsize=20)"
   ]
  },
  {
   "cell_type": "markdown",
   "metadata": {},
   "source": [
    "Since we're going to be using the text descriptions for training the model, we may be curious as to whether the description length correlates with the wine quality. It seems like better quality wines really do have longer descriptions, on average. Therefore, when we train our model, we will want to consider normalizing over the description length."
   ]
  },
  {
   "cell_type": "code",
   "execution_count": 12,
   "metadata": {},
   "outputs": [
    {
     "data": {
      "text/plain": [
       "Text(0, 0.5, 'description length')"
      ]
     },
     "execution_count": 12,
     "metadata": {},
     "output_type": "execute_result"
    },
    {
     "data": {
      "image/png": "[encoded data removed]",
      "text/plain": [
       "<Figure size 432x288 with 1 Axes>"
      ]
     },
     "metadata": {
      "needs_background": "light"
     },
     "output_type": "display_data"
    }
   ],
   "source": [
    "df['description_length'] = df['description'].apply(len)\n",
    "\n",
    "fig, ax = plt.subplots()\n",
    "sns.boxplot(x='quality', y='description_length', data=df)\n",
    "ax.set_title('Wine quality vs description length', fontsize=20) \n",
    "ax.set_xlabel('quality', fontsize=20)\n",
    "ax.set_ylabel('description length', fontsize=20)"
   ]
  },
  {
   "cell_type": "markdown",
   "metadata": {},
   "source": [
    "If we plot the wine's origin country against the points it received, we can see that the wine's origin also seems to  affect the average quality of the wine, although some countries do have a high variance. "
   ]
  },
  {
   "cell_type": "code",
   "execution_count": 13,
   "metadata": {},
   "outputs": [
    {
     "data": {
      "text/plain": [
       "Text(0.5, 0, 'average points')"
      ]
     },
     "execution_count": 13,
     "metadata": {},
     "output_type": "execute_result"
    },
    {
     "data": {
      "image/png": "[encoded data removed]",
      "text/plain": [
       "<Figure size 720x1080 with 1 Axes>"
      ]
     },
     "metadata": {
      "needs_background": "light"
     },
     "output_type": "display_data"
    }
   ],
   "source": [
    "fig, ax = plt.subplots(figsize=(10, 15))\n",
    "\n",
    "ordered = df.groupby([\"country\"])['points'].aggregate(np.mean).reset_index().sort_values('points', ascending=0)\n",
    "\n",
    "ax = sns.barplot(y='country', x='points', data=df, orient=\"h\", order=ordered['country'])\n",
    "ax.set_yticklabels(ax.get_yticklabels(), fontsize=15)\n",
    "ax.set_xlim([80, 94])\n",
    "ax.set_title('Origin vs points', fontsize=20) \n",
    "ax.set_ylabel('country', fontsize=20)\n",
    "ax.set_xlabel('average points', fontsize=20)"
   ]
  },
  {
   "cell_type": "markdown",
   "metadata": {},
   "source": [
    "# Splitting the data\n",
    "\n",
    "We would like to train and test our model on distributions that are representative of the data distribution. Therefore, I will sample from each of the wine qualities separately when creating my train/dev/test sets. I'll use a ratio of approxiately 80%/10%/10% for train/dev/test (respectively).\n",
    "\n",
    "I have decided to split into a separate dev set instead of using cross-validation, because it will be more useful for training hyperparameters, especially if we follow this pattern once we have access to the customer's bigger data."
   ]
  },
  {
   "cell_type": "code",
   "execution_count": 14,
   "metadata": {},
   "outputs": [
    {
     "name": "stdout",
     "output_type": "stream",
     "text": [
      "Quality 0 train/dev/test: 171, 21, 21\n",
      "Quality 1 train/dev/test: 1958, 244, 244\n",
      "Quality 2 train/dev/test: 2806, 350, 350\n",
      "Quality 3 train/dev/test: 2648, 331, 331\n",
      "Quality 4 train/dev/test: 375, 46, 46\n",
      "Final train/dev/test sizes: 7958, 992, 992\n"
     ]
    }
   ],
   "source": [
    "dfs_by_quality = {k: v for k, v in df.groupby('quality')}\n",
    "\n",
    "train_df = pd.DataFrame(columns=df.columns)\n",
    "dev_df = pd.DataFrame(columns=df.columns)\n",
    "test_df = pd.DataFrame(columns=df.columns)\n",
    "for k in dfs_by_quality:\n",
    "    dfq = dfs_by_quality[k]\n",
    "    n_samples = len(dfq)\n",
    "    idx = np.arange(n_samples)\n",
    "    piece = n_samples // 10\n",
    "    \n",
    "    test_idx = idx[0:piece]\n",
    "    test = df.loc[test_idx]\n",
    "    test_df = test_df.append(test)\n",
    "\n",
    "    dev_idx = idx[piece:2*piece]\n",
    "    dev = df.loc[dev_idx]\n",
    "    dev_df = dev_df.append(dev)\n",
    "\n",
    "    train_idx = idx[2*piece:]\n",
    "    train = df.loc[train_idx]\n",
    "    train_df = train_df.append(train)\n",
    "\n",
    "    print('Quality {} train/dev/test: {}, {}, {}'.format(\n",
    "        k, len(train), len(dev), len(test)))\n",
    "\n",
    "print('Final train/dev/test sizes: {}, {}, {}'.format(\n",
    "    len(train_df), len(dev_df), len(test_df)))"
   ]
  },
  {
   "cell_type": "markdown",
   "metadata": {},
   "source": [
    "The actual data splitting, which saves the files to disk, is handled by the `make_datasets` function but it operates similarly to how I have described above."
   ]
  },
  {
   "cell_type": "markdown",
   "metadata": {},
   "source": [
    "# Data preparation"
   ]
  },
  {
   "cell_type": "code",
   "execution_count": 15,
   "metadata": {},
   "outputs": [],
   "source": [
    "from sklearn.impute import SimpleImputer\n",
    "from sklearn.pipeline import Pipeline\n",
    "from sklearn.compose import ColumnTransformer\n",
    "from sklearn.feature_extraction.text import TfidfVectorizer\n",
    "from sklearn.preprocessing import OneHotEncoder\n",
    "from sklearn.preprocessing import StandardScaler, MinMaxScaler\n",
    "from sklearn.preprocessing import label_binarize"
   ]
  },
  {
   "cell_type": "markdown",
   "metadata": {},
   "source": [
    "We should consider which fields from the dataset will be useful to us when building our model.  We won't use the taster twitter handle since it's not more helpful than having their name. Similarly, the wine designation has more to do with the wine's brand, which I think will be less helpful than knowing the winery the wine comes from plus the grape variety. Finally, I will also ignore the province and country, since they would be highly correlated with the region/variety/winery."
   ]
  },
  {
   "cell_type": "markdown",
   "metadata": {},
   "source": [
    "The first easy thing we can do is extract the title from the year, since the title doesn't add much extra information to the review."
   ]
  },
  {
   "cell_type": "code",
   "execution_count": 16,
   "metadata": {},
   "outputs": [],
   "source": [
    "def extract_year(title):\n",
    "    regex = re.compile(r'\\d{4}') #find a sequence of 4 digits\n",
    "    result = re.search(regex, title)\n",
    "    if result:\n",
    "        return int(result[0])\n",
    "    return None"
   ]
  },
  {
   "cell_type": "code",
   "execution_count": 17,
   "metadata": {},
   "outputs": [],
   "source": [
    "df['year'] = df['title'].apply(extract_year).fillna(-1).astype(int)"
   ]
  },
  {
   "cell_type": "markdown",
   "metadata": {},
   "source": [
    "One problem in the data is that some values in some columns are missing (`NaN`), which could hurt the model. "
   ]
  },
  {
   "cell_type": "code",
   "execution_count": 18,
   "metadata": {},
   "outputs": [
    {
     "name": "stdout",
     "output_type": "stream",
     "text": [
      "Missing values for country: 6\n",
      "Missing values for description: 0\n",
      "Missing values for designation: 2813\n",
      "Missing values for points: 0\n",
      "Missing values for price: 676\n",
      "Missing values for province: 6\n",
      "Missing values for region_1: 1653\n",
      "Missing values for region_2: 6112\n",
      "Missing values for taster_name: 1983\n",
      "Missing values for taster_twitter_handle: 2353\n",
      "Missing values for title: 0\n",
      "Missing values for variety: 0\n",
      "Missing values for winery: 0\n",
      "Missing values for quality: 0\n",
      "Missing values for description_length: 0\n",
      "Missing values for year: 0\n"
     ]
    }
   ],
   "source": [
    "for c in df.columns:\n",
    "    print('Missing values for {}: {}'.format(c, df[c].isna().sum()))"
   ]
  },
  {
   "cell_type": "markdown",
   "metadata": {},
   "source": [
    "The price can be fairly easily interpolated by taking the mean of the price for that quality category. "
   ]
  },
  {
   "cell_type": "code",
   "execution_count": 19,
   "metadata": {},
   "outputs": [],
   "source": [
    "df[\"price\"] = df.groupby(\"quality\").transform(lambda x: x.fillna(x.median()))['price']"
   ]
  },
  {
   "cell_type": "markdown",
   "metadata": {},
   "source": [
    "Many of the `region_2` entries are missing, probably because they are not applicable. Instead of trying to find some way of filling in this column, I will actually consider dual-region wines as belonging to a different region class than single-region wines."
   ]
  },
  {
   "cell_type": "code",
   "execution_count": 20,
   "metadata": {},
   "outputs": [],
   "source": [
    "df['region'] = df['region_1'].astype(str) + ', ' + df['region_2'].fillna('')"
   ]
  },
  {
   "cell_type": "markdown",
   "metadata": {},
   "source": [
    "# Text processing"
   ]
  },
  {
   "cell_type": "markdown",
   "metadata": {},
   "source": [
    "Since we have access to some written reviews, we want to make use of those. Since most classifiers apply a loss function to the model output based on the correct output, they can't accept strings as input, so first we will need to convert the text descriptions to a useable format. One way would be to load pre-trained word embeddings. However, let's start with a simpler method. We could build a bag-of-words model by taking the count of each of the words in the descriptions, however, one big problem with this is that some words (e.g. \"wine\" and \"the\") will show up in every review, meaning we won't get much information from them, while other, rarer words will only show up in very specific reviews and our model could overfit to those.\n",
    "\n",
    "Another common and simple way of modeling a document is using TF-IDF (term frequency-inverse document frequency). This statistic seeks to quantify how much information a particular word provides in the context of a document, in a whole corpus. It creates a vector for each document, representing the words of the document. High values indicates terms that appear often in a given document, but rarely in other documents within the entire corpus. The vector is constructed using the term frequency (the number of times a word from the vocabulary appears in a given document) as a weight for the inverse document frequency (the total number of documents over the number of docments the word appears in). \n",
    "\n",
    "The vector can be normalized for document length using the L2 norm. Since we saw in our earlier exploration of the data that document length seems to correlate with wine quality, I would actually like to normalize by document length, because I don't want the model to learn that longer review = better wine.\n",
    "\n",
    "Before converting the descriptions into tf-idf vectors, we would like to normalize the text by removing casing/punctuation. This is because we want words to be considered the same, whether they start with a capital letter or not, whether they precede punctuation or not, etc., and we don't expect to learn a lot from the tf-idf metric for punctuation. Afterwards, we will split the text on spaces to tokenize it, so we have discrete words that we can convert into the tf-idf vectors.\n",
    "\n",
    "(Note: this type of text normalization works decently well for English, but does remove some important contextual information, which could cause difficulties in a more ambitious project. Furthermore, other languages may not benefit or may not even require this type of normalization. For example, German uses captial letters to distinguish nouns, so we may want to take advantage of this extra information. Some languages such as Japanese/Mandarin do not explicitly write word boundaries, meaning we would need to create an extra model that predicts word boundaries in the first place. For languages with rich overt morphology such as Russian, it may be beneficial to either lemmatize or to tokenize at the sub-word level, in order to reduce the domain of possible tokens.)\n",
    "\n",
    "Fortunately, scikit-learn provides us with a nice TfidfVectorizer to do text normalization, tokenization, and normalized tf-idf, so we don't have to code it ourselves (it doesn't lemmatize, so we might consider adding that)."
   ]
  },
  {
   "cell_type": "code",
   "execution_count": 21,
   "metadata": {},
   "outputs": [
    {
     "name": "stdout",
     "output_type": "stream",
     "text": [
      "(9942, 11804)\n"
     ]
    }
   ],
   "source": [
    "vectorizer = TfidfVectorizer()\n",
    "doc_vecs = vectorizer.fit_transform(df['description'])\n",
    "print(doc_vecs.shape) #(documents, vocabulary)"
   ]
  },
  {
   "cell_type": "markdown",
   "metadata": {},
   "source": [
    "# Feature extraction\n",
    "\n",
    "Let's combine everything from the previous sections into a single function that we can re-use to extend the data from the train/dev/test datasets:"
   ]
  },
  {
   "cell_type": "code",
   "execution_count": 22,
   "metadata": {},
   "outputs": [],
   "source": [
    "def extend_wine_data(df):\n",
    "    \"\"\"\n",
    "    Add extra columns to the wine dataset that will help with\n",
    "    feature extraction.\n",
    "    \"\"\"\n",
    "    df['year'] = df['title'].apply(extract_year)    \n",
    "    df['region'] = df['region_1'].astype(str) + ', ' + df['region_2'].fillna('')\n",
    "    df[\"price\"] = df.groupby(\"quality\").transform(lambda x: x.fillna(x.median()))['price']\n",
    "    \n",
    "    return df"
   ]
  },
  {
   "cell_type": "markdown",
   "metadata": {},
   "source": [
    "Next, we will convert our data into features. We'll use the imputer to replace empty values,  then we'll convert categories to one-hot encodings, and we'll normalize continuous variables and ints by removing the median and scaling to unit variance. We'll use the sklearn pipeline to allow us to re-use them for each of the datasets (train/dev/test). "
   ]
  },
  {
   "cell_type": "code",
   "execution_count": 23,
   "metadata": {},
   "outputs": [],
   "source": [
    "integer_transformer = Pipeline(steps = [\n",
    "   ('int_imputer', SimpleImputer(strategy='median', missing_values=np.nan)),\n",
    "   ('int_scaler', MinMaxScaler())\n",
    "])\n",
    "\n",
    "continuous_transformer = Pipeline(steps = [\n",
    "   ('cont_imputer', SimpleImputer(strategy='median', missing_values=np.nan)),\n",
    "   ('cont_scaler', StandardScaler())\n",
    "])\n",
    "\n",
    "categorical_transformer = Pipeline(steps = [\n",
    "   ('cat_imputer', SimpleImputer(strategy='constant', fill_value='<unk>', missing_values=np.nan)),\n",
    "   ('cat_enc', OneHotEncoder(handle_unknown='ignore'))\n",
    "])\n",
    "\n",
    "int_cols = ['year']\n",
    "cont_cols = ['price']\n",
    "cat_cols = ['taster_name','variety', 'winery', 'region']\n",
    "\n",
    "preprocessor = ColumnTransformer(transformers=[\n",
    "    ('ints', integer_transformer, int_cols),\n",
    "    ('cont', continuous_transformer, cont_cols),\n",
    "    ('cat', categorical_transformer, cat_cols)\n",
    "])"
   ]
  },
  {
   "cell_type": "markdown",
   "metadata": {},
   "source": [
    "We fit our preprocessors on the training data and combine everything into one dataset:"
   ]
  },
  {
   "cell_type": "code",
   "execution_count": 24,
   "metadata": {},
   "outputs": [],
   "source": [
    "from scipy.sparse import hstack, vstack, csr_matrix\n",
    "\n",
    "def extract_features_and_classes(df, preprocessor, vectorizer, train=True):\n",
    "    ys = df['quality'].values.astype(int)\n",
    "    if train:\n",
    "        cols = preprocessor.fit_transform(df)\n",
    "        docs = vectorizer.fit_transform(df['description'])\n",
    "    else:\n",
    "        cols = preprocessor.transform(df)\n",
    "        docs = vectorizer.transform(df['description'])\n",
    "    \n",
    "    xs = hstack((docs, cols), format='csr')\n",
    "\n",
    "    return xs, ys"
   ]
  },
  {
   "cell_type": "code",
   "execution_count": 25,
   "metadata": {},
   "outputs": [],
   "source": [
    "extended_train_df = extend_wine_data(train_df)\n",
    "train_xs, train_ys = extract_features_and_classes(extended_train_df, preprocessor, vectorizer)\n",
    "\n",
    "extended_dev_df = extend_wine_data(dev_df)\n",
    "dev_xs, dev_ys = extract_features_and_classes(extended_dev_df, preprocessor, vectorizer, train=False)\n",
    "\n",
    "extended_test_df = extend_wine_data(test_df)\n",
    "test_xs, test_ys = extract_features_and_classes(extended_test_df, preprocessor, vectorizer, train=False)\n",
    "\n",
    "#We will use this one for GridSearchCV below (easier to do it here at the start than recombining it later)\n",
    "extended_train_dev_df = pd.concat([extended_train_df, extended_dev_df])\n",
    "train_dev_xs, train_dev_ys = extract_features_and_classes(extended_train_dev_df, preprocessor, vectorizer, train=False)"
   ]
  },
  {
   "cell_type": "markdown",
   "metadata": {},
   "source": [
    "# Models"
   ]
  },
  {
   "cell_type": "markdown",
   "metadata": {},
   "source": [
    "We now have all of the data converted into a numeric representation, and it's time to choose what type of model to train. "
   ]
  },
  {
   "cell_type": "markdown",
   "metadata": {},
   "source": [
    "We may be able to train a model only on the text description, however, I would like to make use of the extra information from the other fields as well. Without doing some testing, it's hard to be sure which model architecture would perform best. It would be a good idea to test a few different models, and possibly even ensemble them together. Another method could be to train a hierarchical model, where the first part will be a text classification model, which uses the text description to predict the classes. The output of this would be fed to the final model to predict the wine quality. \n",
    "\n",
    "Below, I will explore a number of different models, including some ensembling methods, and compare their performance."
   ]
  },
  {
   "cell_type": "code",
   "execution_count": 26,
   "metadata": {},
   "outputs": [],
   "source": [
    "from sklearn.linear_model import LogisticRegression\n",
    "from sklearn.tree import DecisionTreeClassifier\n",
    "from sklearn.ensemble import RandomForestClassifier, GradientBoostingClassifier, VotingClassifier,  ExtraTreesClassifier, AdaBoostClassifier\n",
    "from sklearn.neighbors import KNeighborsClassifier \n",
    "from sklearn.svm import SVC\n",
    "from sklearn.discriminant_analysis import LinearDiscriminantAnalysis\n",
    "from sklearn.naive_bayes import GaussianNB\n",
    "\n",
    "from sklearn import metrics"
   ]
  },
  {
   "cell_type": "code",
   "execution_count": 36,
   "metadata": {},
   "outputs": [],
   "source": [
    "lr = ('LR', LogisticRegression(solver='sag', \n",
    "                               multi_class='multinomial',\n",
    "                               max_iter=2000)) \n",
    "knn = ('KNN', KNeighborsClassifier()) \n",
    "rf = ('RF', RandomForestClassifier(n_estimators=100))\n",
    "svc = ('SVC', SVC(max_iter=2000, gamma='scale', random_state=42))\n",
    "gb = ('GB', GradientBoostingClassifier())\n",
    "et = ('ET', ExtraTreesClassifier(n_estimators=100))\n",
    "cart = ('CART', DecisionTreeClassifier())\n",
    "ab = ('AB', AdaBoostClassifier())\n",
    "lda = ('LDA', LinearDiscriminantAnalysis())\n",
    "nb = ('NB', GaussianNB())"
   ]
  },
  {
   "cell_type": "code",
   "execution_count": 28,
   "metadata": {},
   "outputs": [
    {
     "name": "stderr",
     "output_type": "stream",
     "text": [
      "/home/sveta/.conda/envs/datarevenue/lib/python3.7/site-packages/sklearn/svm/base.py:241: ConvergenceWarning: Solver terminated early (max_iter=2000).  Consider pre-processing your data with StandardScaler or MinMaxScaler.\n",
      "  % self.max_iter, ConvergenceWarning)\n",
      "/home/sveta/.conda/envs/datarevenue/lib/python3.7/site-packages/sklearn/discriminant_analysis.py:388: UserWarning: Variables are collinear.\n",
      "  warnings.warn(\"Variables are collinear.\")\n"
     ]
    }
   ],
   "source": [
    "models = [lr, knn, gb, rf, svc, et, cart, ab, lda, nb]\n",
    "\n",
    "dev_preds = {}\n",
    "\n",
    "for name, model in [lr, knn, gb, rf, svc, et, cart, ab]:\n",
    "    model.fit(train_xs, train_ys)\n",
    "    preds = model.predict(test_xs)\n",
    "    dev_preds[name] = preds\n",
    "    \n",
    "for name, model in [lda, nb]:\n",
    "    model.fit(train_xs.toarray(), train_ys)\n",
    "    preds = model.predict(test_xs.toarray())\n",
    "    dev_preds[name] = preds"
   ]
  },
  {
   "cell_type": "markdown",
   "metadata": {},
   "source": [
    "Below, I will make reports of various metrics for our models' performance (although some failed to converge as the warnings above inform us, and those will, of course, have poor results):"
   ]
  },
  {
   "cell_type": "code",
   "execution_count": 38,
   "metadata": {},
   "outputs": [],
   "source": [
    "def get_scores(ys, preds, labels):\n",
    "    report = metrics.classification_report(ys, preds)\n",
    "    cm = metrics.confusion_matrix(ys, preds, labels=labels)\n",
    "    cm = cm.astype('float') / cm.sum(axis=1)[:, np.newaxis] #normalize the cm\n",
    "    return report, cm\n",
    "\n",
    "def unique_list(seq):\n",
    "    #to get unique ordered list of labels\n",
    "    seen = set()\n",
    "    seen_add = seen.add\n",
    "    return [x for x in seq if not (x in seen or seen_add(x))]\n",
    "\n",
    "labels = unique_list(quality_to_class.values())\n",
    "\n",
    "confusions = {}\n",
    "reports = {}\n",
    "    \n",
    "for name, model in models:\n",
    "    preds = dev_preds[name]\n",
    "    report, cm = get_scores(test_ys, preds, labels)\n",
    "    reports[name] = report\n",
    "    confusions[name] = cm"
   ]
  },
  {
   "cell_type": "markdown",
   "metadata": {},
   "source": [
    "Looking at the results of the training on the dev set, we can see that the imbalanced nature of the dataset is hurting us (indeed **the warning above about F-score comes from the imbalanced data**). Since some of our classes have very few data points, it wouldn't be fair to average the model's score across all classes equally, therefore, I find that the weighted average F-score more instructive as a single metric, which weights the F-scores by the number of items in the class. "
   ]
  },
  {
   "cell_type": "code",
   "execution_count": 39,
   "metadata": {},
   "outputs": [
    {
     "name": "stdout",
     "output_type": "stream",
     "text": [
      "LR.\n",
      "              precision    recall  f1-score   support\n",
      "\n",
      "           0       1.00      0.57      0.72        23\n",
      "           1       0.85      0.82      0.83       264\n",
      "           2       0.85      0.90      0.88       339\n",
      "           3       0.90      0.94      0.92       307\n",
      "           4       0.91      0.68      0.78        59\n",
      "\n",
      "    accuracy                           0.87       992\n",
      "   macro avg       0.90      0.78      0.83       992\n",
      "weighted avg       0.87      0.87      0.87       992\n",
      "\n",
      "KNN.\n",
      "              precision    recall  f1-score   support\n",
      "\n",
      "           0       0.00      0.00      0.00        23\n",
      "           1       0.55      0.45      0.50       264\n",
      "           2       0.53      0.55      0.54       339\n",
      "           3       0.60      0.70      0.65       307\n",
      "           4       0.58      0.47      0.52        59\n",
      "\n",
      "    accuracy                           0.55       992\n",
      "   macro avg       0.45      0.44      0.44       992\n",
      "weighted avg       0.55      0.55      0.55       992\n",
      "\n",
      "GB.\n",
      "              precision    recall  f1-score   support\n",
      "\n",
      "           0       1.00      1.00      1.00        23\n",
      "           1       0.85      0.75      0.79       264\n",
      "           2       0.76      0.77      0.76       339\n",
      "           3       0.75      0.88      0.81       307\n",
      "           4       0.89      0.42      0.57        59\n",
      "\n",
      "    accuracy                           0.78       992\n",
      "   macro avg       0.85      0.77      0.79       992\n",
      "weighted avg       0.79      0.78      0.78       992\n",
      "\n",
      "RF.\n",
      "              precision    recall  f1-score   support\n",
      "\n",
      "           0       1.00      1.00      1.00        23\n",
      "           1       0.96      0.86      0.91       264\n",
      "           2       0.85      0.93      0.89       339\n",
      "           3       0.92      0.94      0.93       307\n",
      "           4       1.00      0.83      0.91        59\n",
      "\n",
      "    accuracy                           0.91       992\n",
      "   macro avg       0.95      0.91      0.93       992\n",
      "weighted avg       0.92      0.91      0.91       992\n",
      "\n",
      "SVC.\n",
      "              precision    recall  f1-score   support\n",
      "\n",
      "           0       1.00      0.39      0.56        23\n",
      "           1       0.85      0.85      0.85       264\n",
      "           2       0.88      0.88      0.88       339\n",
      "           3       0.87      0.95      0.91       307\n",
      "           4       1.00      0.71      0.83        59\n",
      "\n",
      "    accuracy                           0.87       992\n",
      "   macro avg       0.92      0.76      0.81       992\n",
      "weighted avg       0.88      0.87      0.87       992\n",
      "\n",
      "ET.\n",
      "              precision    recall  f1-score   support\n",
      "\n",
      "           0       1.00      1.00      1.00        23\n",
      "           1       0.91      0.90      0.90       264\n",
      "           2       0.89      0.89      0.89       339\n",
      "           3       0.94      0.99      0.96       307\n",
      "           4       1.00      0.83      0.91        59\n",
      "\n",
      "    accuracy                           0.92       992\n",
      "   macro avg       0.95      0.92      0.93       992\n",
      "weighted avg       0.92      0.92      0.92       992\n",
      "\n",
      "CART.\n",
      "              precision    recall  f1-score   support\n",
      "\n",
      "           0       0.70      1.00      0.82        23\n",
      "           1       0.97      0.92      0.94       264\n",
      "           2       0.87      0.96      0.91       339\n",
      "           3       0.95      0.84      0.89       307\n",
      "           4       0.73      0.81      0.77        59\n",
      "\n",
      "    accuracy                           0.90       992\n",
      "   macro avg       0.84      0.91      0.87       992\n",
      "weighted avg       0.91      0.90      0.90       992\n",
      "\n",
      "AB.\n",
      "              precision    recall  f1-score   support\n",
      "\n",
      "           0       0.22      0.17      0.20        23\n",
      "           1       0.62      0.44      0.52       264\n",
      "           2       0.58      0.51      0.55       339\n",
      "           3       0.51      0.72      0.60       307\n",
      "           4       0.15      0.14      0.14        59\n",
      "\n",
      "    accuracy                           0.53       992\n",
      "   macro avg       0.42      0.40      0.40       992\n",
      "weighted avg       0.54      0.53      0.52       992\n",
      "\n",
      "LDA.\n",
      "              precision    recall  f1-score   support\n",
      "\n",
      "           0       0.76      0.96      0.85        23\n",
      "           1       0.81      0.73      0.76       264\n",
      "           2       0.73      0.68      0.71       339\n",
      "           3       0.67      0.73      0.70       307\n",
      "           4       0.60      0.78      0.68        59\n",
      "\n",
      "    accuracy                           0.72       992\n",
      "   macro avg       0.71      0.77      0.74       992\n",
      "weighted avg       0.73      0.72      0.72       992\n",
      "\n",
      "NB.\n",
      "              precision    recall  f1-score   support\n",
      "\n",
      "           0       1.00      1.00      1.00        23\n",
      "           1       0.84      0.86      0.85       264\n",
      "           2       0.86      0.87      0.86       339\n",
      "           3       0.94      0.91      0.92       307\n",
      "           4       0.93      0.92      0.92        59\n",
      "\n",
      "    accuracy                           0.88       992\n",
      "   macro avg       0.91      0.91      0.91       992\n",
      "weighted avg       0.89      0.88      0.88       992\n",
      "\n"
     ]
    }
   ],
   "source": [
    "for name in reports:\n",
    "    print('{}.'.format(name))\n",
    "    print(reports[name])"
   ]
  },
  {
   "cell_type": "markdown",
   "metadata": {},
   "source": [
    "Graphing the confusion matrices shows us at a glance how well each model performed on each class. Good performance is indicated by high values (dark blue) on the diagonal, signifying that the model predicted a target class correctly. \n",
    "\n",
    "We can see that some models had difficulty with the low-sample classes. One way to improve performance would be to find more, similar datasets (if the client can't give us more, then we could find near-domain data from other sources to train on), in particular for the low-resource columns (highest/lowest wine qualities).\n",
    "\n",
    "(Note: Sorry, I'm not sure why the plot cuts off the top/bottom cells in the heatmaps below.)"
   ]
  },
  {
   "cell_type": "code",
   "execution_count": 40,
   "metadata": {
    "scrolled": false
   },
   "outputs": [
    {
     "data": {
      "image/png": "[encoded data removed]",
      "text/plain": [
       "<Figure size 360x4320 with 20 Axes>"
      ]
     },
     "metadata": {
      "needs_background": "light"
     },
     "output_type": "display_data"
    }
   ],
   "source": [
    "fig, axes = plt.subplots(len(confusions), figsize=(5, 60))\n",
    "fig.subplots_adjust(hspace=0.5)\n",
    "for i, name in enumerate(confusions):\n",
    "    cm = confusions[name]\n",
    "    ax = axes[i]\n",
    "    ax.set_title('{}'.format(name), fontsize=20)\n",
    "    sns.heatmap(cm, ax=ax, cmap='Blues', square=True,\n",
    "        linewidths=.5, vmin=0, vmax=1.0                   \n",
    "    )"
   ]
  },
  {
   "cell_type": "markdown",
   "metadata": {},
   "source": [
    "The tree-based models performed very well; however, it is likely because our dev set comes from a very similar distribution to our training set. Trees don't extrapolate well to unseen data, and it's possible that the larger data from the customer will introduce new points that are farther from our training data.\n",
    "\n",
    "In particular, if the customer's data includes new wines from brand new produces (such that each of the column values for taster/winery/region/variety is new), the RF will probably perform much worse on the column data, and if the reviewers of the new wines use different language than the reviewers in this data set, the RF will probably perform much worse on the description data also.\n",
    "\n",
    "Furthermore, some of the models seem to be performing very poorly at first glance, but it may be a case of poorly tuned hyperparameters. SVC, for example, can improve a great deal from hyperparameter tuning. I will use grid search below to autotune SVC. In practice, grid search is usually too time consuming to perform, so a better method might be to use bayesian optimization (e.g. hyperopt package). I will use the dev set to improve the hyperparameters, and keep the test set separate for a final evaluation at the end.\n"
   ]
  },
  {
   "cell_type": "code",
   "execution_count": 42,
   "metadata": {},
   "outputs": [
    {
     "data": {
      "text/plain": [
       "GridSearchCV(cv=PredefinedSplit(test_fold=array([-1, -1, ...,  0,  0])),\n",
       "             error_score='raise-deprecating',\n",
       "             estimator=SVC(C=1.0, cache_size=200, class_weight=None, coef0=0.0,\n",
       "                           decision_function_shape='ovr', degree=3,\n",
       "                           gamma='auto_deprecated', kernel='rbf', max_iter=-1,\n",
       "                           probability=False, random_state=42, shrinking=True,\n",
       "                           tol=0.001, verbose=False),\n",
       "             iid='warn', n_jobs=None,\n",
       "             param_grid={'C': [1, 10, 100, 1000],\n",
       "                         'gamma': [1, 0.1, 0.001, 0.0001],\n",
       "                         'kernel': ['linear', 'rbf']},\n",
       "             pre_dispatch='2*n_jobs', refit=True, return_train_score=False,\n",
       "             scoring=None, verbose=0)"
      ]
     },
     "execution_count": 42,
     "metadata": {},
     "output_type": "execute_result"
    }
   ],
   "source": [
    "from sklearn.model_selection import GridSearchCV, PredefinedSplit\n",
    "\n",
    "#gamma is the inverse of the radius of influence of the \n",
    "#   support vectors; larger gamma = less influence\n",
    "#C trades off correct classification against maximizing \n",
    "#   the margin; larger C = smaller margin \n",
    "param_grid = {'C':[1,10,100,1000],\n",
    "              'gamma':[1,0.1,0.001,0.0001], \n",
    "              'kernel':['linear','rbf']}\n",
    "\n",
    "test_fold = [-1]*train_xs.shape[0]\n",
    "test_fold.extend([0]*dev_xs.shape[0])\n",
    "\n",
    "ps = PredefinedSplit(test_fold=test_fold)\n",
    "\n",
    "\n",
    "clf = GridSearchCV(SVC(random_state=42),\n",
    "                   param_grid=param_grid,\n",
    "                   cv=ps)\n",
    "\n",
    "clf.fit(train_dev_xs, train_dev_ys)"
   ]
  },
  {
   "cell_type": "markdown",
   "metadata": {},
   "source": [
    "The reports/graph below shows us that SVC can actually perform very well at this task. We can also look in to see which hyperparameters returned such a good result for us. "
   ]
  },
  {
   "cell_type": "code",
   "execution_count": 46,
   "metadata": {},
   "outputs": [
    {
     "name": "stdout",
     "output_type": "stream",
     "text": [
      "Best params: {'C': 10, 'gamma': 1, 'kernel': 'linear'} \n",
      "\n",
      "              precision    recall  f1-score   support\n",
      "\n",
      "           0       1.00      1.00      1.00        23\n",
      "           1       0.94      0.92      0.93       264\n",
      "           2       0.93      0.96      0.94       339\n",
      "           3       0.98      0.98      0.98       307\n",
      "           4       1.00      0.92      0.96        59\n",
      "\n",
      "    accuracy                           0.95       992\n",
      "   macro avg       0.97      0.96      0.96       992\n",
      "weighted avg       0.96      0.95      0.95       992\n",
      "\n"
     ]
    },
    {
     "data": {
      "text/plain": [
       "<matplotlib.axes._subplots.AxesSubplot at 0x7fb895120e80>"
      ]
     },
     "execution_count": 46,
     "metadata": {},
     "output_type": "execute_result"
    },
    {
     "data": {
      "image/png": "[encoded data removed]",
      "text/plain": [
       "<Figure size 432x288 with 2 Axes>"
      ]
     },
     "metadata": {
      "needs_background": "light"
     },
     "output_type": "display_data"
    }
   ],
   "source": [
    "preds = clf.predict(test_xs)\n",
    "report, cm = get_scores(test_ys, preds, labels)\n",
    "reports[name] = report\n",
    "confusions[name] = cm\n",
    "\n",
    "print('Best params:', clf.best_params_, '\\n')\n",
    "\n",
    "print(report)\n",
    "\n",
    "fig, ax = plt.subplots()\n",
    "ax.set_title('{}'.format('Autotuned SVC'), fontsize=20)\n",
    "sns.heatmap(cm, ax=ax, cmap='Blues', square=True,\n",
    "    linewidths=.5, vmin=0, vmax=1.0                   \n",
    ")"
   ]
  },
  {
   "cell_type": "markdown",
   "metadata": {},
   "source": [
    "Finally, we're not limited to just one viewpoint-- another thing we can try is ensembling different classifiers together. We already used some ensemble models above which use various methods to combine similar architecture models (RandomForest, GradientBoostingClassifier), but below we see how we can combine very different models. \n",
    "\n",
    "I will combine Random Forest, which is strong in classification tasks, with SVC, using our best autotuned hyperparameters for SVC. From this, we can see that we get really good performance as well. It doesn't perform as apparently perfectly as the RF on its own, but this ensemble should be better at handling wholly unseen data points. It also doesn't perform better than SVC on its own on this dataset, but I think adding RF should help for when we see points more similar to the ones we've already seen. (Furthermore, we should autotune on this voting classifier instead for the best performance; however, I will skip this now in the interest of training time.)"
   ]
  },
  {
   "cell_type": "code",
   "execution_count": 44,
   "metadata": {},
   "outputs": [
    {
     "name": "stderr",
     "output_type": "stream",
     "text": [
      "/home/sveta/.conda/envs/datarevenue/lib/python3.7/site-packages/sklearn/svm/base.py:241: ConvergenceWarning: Solver terminated early (max_iter=4000).  Consider pre-processing your data with StandardScaler or MinMaxScaler.\n",
      "  % self.max_iter, ConvergenceWarning)\n"
     ]
    }
   ],
   "source": [
    "name = 'RF_SVC'\n",
    "\n",
    "rf = ('RF', RandomForestClassifier(n_estimators=100)) \n",
    "svc = ('SVC', SVC(max_iter=4000, gamma=1, C=10, kernel='linear', random_state=42))\n",
    "\n",
    "voter = VotingClassifier(estimators=[rf, svc])\n",
    "voter.fit(train_xs, train_ys)\n",
    "preds = voter.predict(test_xs)\n",
    "\n",
    "report, cm = get_scores(test_ys, preds, labels)"
   ]
  },
  {
   "cell_type": "code",
   "execution_count": 45,
   "metadata": {
    "scrolled": true
   },
   "outputs": [
    {
     "name": "stdout",
     "output_type": "stream",
     "text": [
      "RF_SVC.\n",
      "              precision    recall  f1-score   support\n",
      "\n",
      "           0       1.00      1.00      1.00        23\n",
      "           1       0.91      0.90      0.90       264\n",
      "           2       0.84      0.93      0.89       339\n",
      "           3       0.97      0.90      0.93       307\n",
      "           4       1.00      0.83      0.91        59\n",
      "\n",
      "    accuracy                           0.91       992\n",
      "   macro avg       0.94      0.91      0.93       992\n",
      "weighted avg       0.91      0.91      0.91       992\n",
      "\n"
     ]
    },
    {
     "data": {
      "image/png": "[encoded data removed]",
      "text/plain": [
       "<Figure size 720x720 with 2 Axes>"
      ]
     },
     "metadata": {
      "needs_background": "light"
     },
     "output_type": "display_data"
    }
   ],
   "source": [
    "print('{}.'.format(name))\n",
    "print(report)\n",
    "\n",
    "fig, ax = plt.subplots(figsize=(10, 10))\n",
    "ax.set_title('{}'.format(name), fontsize=20)\n",
    "ax = sns.heatmap(cm, ax=ax, cmap='Blues', square=True,\n",
    "    linewidths=.5, vmin=0, vmax=1.0, cbar_kws={'shrink': 0.65}            \n",
    ")"
   ]
  },
  {
   "cell_type": "markdown",
   "metadata": {},
   "source": [
    "Finally, for dealing with the customer's bigger data, I would ideally like to have a few different models at the ready. Depending on how much time we have for the final training, we may be able to compare their performance on-site, when we have access to larger data, and submit the best models to the customer at that time. Since we already have all of the structure built, it is very easy to plug in different model architectures, and the only cost is some computation time on-site."
   ]
  },
  {
   "cell_type": "code",
   "execution_count": null,
   "metadata": {},
   "outputs": [],
   "source": []
  }
 ],
 "metadata": {
  "kernelspec": {
   "display_name": "Python 3",
   "language": "python",
   "name": "python3"
  },
  "language_info": {
   "codemirror_mode": {
    "name": "ipython",
    "version": 3
   },
   "file_extension": ".py",
   "mimetype": "text/x-python",
   "name": "python",
   "nbconvert_exporter": "python",
   "pygments_lexer": "ipython3",
   "version": "3.7.3"
  }
 },
 "nbformat": 4,
 "nbformat_minor": 2
}
